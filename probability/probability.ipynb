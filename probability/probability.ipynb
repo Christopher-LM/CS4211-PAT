{
 "cells": [
  {
   "cell_type": "markdown",
   "metadata": {},
   "source": [
    "# Calculating probability of chess moves"
   ]
  },
  {
   "cell_type": "markdown",
   "metadata": {},
   "source": [
    "For each board score state (Winning, Neutral, Losing) to each end result (Win/Lose/Draw)\n",
    "\n",
    "Collect move profiles:\n",
    "- First move\n",
    "- Number of times piece is moved until result\n",
    "\n",
    "Final probabilities\n",
    "- Prob of moving specific piece as first move for each starting state to final result\n",
    "- Proportion of moves for each piece for each starting state to final result (like an overall strategy)"
   ]
  },
  {
   "cell_type": "code",
   "execution_count": 1,
   "metadata": {},
   "outputs": [],
   "source": [
    "import os\n",
    "import json\n",
    "\n",
    "import numpy as np"
   ]
  },
  {
   "cell_type": "markdown",
   "metadata": {},
   "source": [
    "### Helper functions"
   ]
  },
  {
   "cell_type": "markdown",
   "metadata": {},
   "source": [
    "Calculate board score"
   ]
  },
  {
   "cell_type": "code",
   "execution_count": 2,
   "metadata": {},
   "outputs": [],
   "source": [
    "def calc_score(boardState):\n",
    "    piece_value = {'p': 1, 'n': 3, 'b': 3, 'r': 5, 'q': 9, 'k': 0}\n",
    "\n",
    "    black_pieces = [piece[\"type\"] for piece in boardState if piece[\"color\"] == \"b\"]\n",
    "    white_pieces = [piece[\"type\"] for piece in boardState if piece[\"color\"] == \"w\"]\n",
    "\n",
    "    black_score = sum([piece_value[piece] for piece in black_pieces])\n",
    "    white_score = sum([piece_value[piece] for piece in white_pieces])\n",
    "\n",
    "    return black_score, white_score, black_pieces, white_pieces\n"
   ]
  },
  {
   "cell_type": "markdown",
   "metadata": {},
   "source": [
    "Parse available pieces"
   ]
  },
  {
   "cell_type": "code",
   "execution_count": 3,
   "metadata": {},
   "outputs": [],
   "source": [
    "def parse_available_pieces(boardState, isDingBlack):\n",
    "    if isDingBlack:\n",
    "        return [piece[\"type\"].capitalize() for piece in boardState if piece[\"color\"] == \"b\"]\n",
    "    else:\n",
    "        return [piece[\"type\"].capitalize() for piece in boardState if piece[\"color\"] == \"w\"]"
   ]
  },
  {
   "cell_type": "markdown",
   "metadata": {},
   "source": [
    "Parse Move"
   ]
  },
  {
   "cell_type": "code",
   "execution_count": 4,
   "metadata": {},
   "outputs": [],
   "source": [
    "def parse_move(move):\n",
    "    piece_codes = ['K', 'Q', 'B', 'N', \"R\"]\n",
    "    if move[0] not in piece_codes:\n",
    "        move_piece = 'P'\n",
    "    else:\n",
    "        move_piece = move[0]\n",
    "    \n",
    "    return move_piece"
   ]
  },
  {
   "cell_type": "markdown",
   "metadata": {},
   "source": [
    "Parse all moves"
   ]
  },
  {
   "cell_type": "code",
   "execution_count": 5,
   "metadata": {},
   "outputs": [],
   "source": [
    "def parse_all_moves(moves, isDingNextTurn):\n",
    "    odd_index = moves[::2]\n",
    "    even_index = moves[1::2]\n",
    "    if isDingNextTurn:\n",
    "        return [parse_move(move) for move in odd_index]\n",
    "    else:\n",
    "        return [parse_move(move) for move in even_index]"
   ]
  },
  {
   "cell_type": "markdown",
   "metadata": {},
   "source": [
    "Parse Win"
   ]
  },
  {
   "cell_type": "code",
   "execution_count": 6,
   "metadata": {},
   "outputs": [],
   "source": [
    "def parse_win(game):\n",
    "    isDingBlack = game[\"isDingBlack\"]\n",
    "    result = game[\"result\"]\n",
    "    if result == \"1/2-1/2\":\n",
    "        return \"Draw\"\n",
    "    white_result = result[0]\n",
    "    if (white_result == \"1\" and not isDingBlack) or (white_result == \"0\" and isDingBlack):\n",
    "        return \"Win\"\n",
    "    else:\n",
    "        return \"Lose\""
   ]
  },
  {
   "cell_type": "markdown",
   "metadata": {},
   "source": [
    "Loading one game"
   ]
  },
  {
   "cell_type": "code",
   "execution_count": 7,
   "metadata": {},
   "outputs": [],
   "source": [
    "def process_one_game(filepath, first_move_winning_state, all_moves_winning_state):\n",
    "    file = open(filepath)\n",
    "    game = json.load(file)\n",
    "\n",
    "    black_score, white_score, black_pieces, white_pieces = calc_score(game[\"boardState\"])\n",
    "    isDingBlack = game[\"isDingBlack\"]\n",
    "    nextTurn = game[\"nextTurn\"]\n",
    "    moves = game[\"moves\"]\n",
    "    ding_score = black_score if isDingBlack else white_score\n",
    "    opp_score = white_score if isDingBlack else black_score\n",
    "    isDingNextTurn = (isDingBlack and nextTurn == 'b') or (not isDingBlack and nextTurn == 'w')\n",
    "\n",
    "    if ding_score > opp_score:\n",
    "        ding_position = \"Winning\"\n",
    "    elif ding_score == opp_score:\n",
    "        ding_position = \"Neutral\"\n",
    "    else:\n",
    "        ding_position = \"Losing\"\n",
    "\n",
    "    available_pieces = parse_available_pieces(game[\"boardState\"], isDingBlack)\n",
    "\n",
    "\n",
    "    if isDingNextTurn:\n",
    "        first_move = parse_move(moves[0])\n",
    "    else:\n",
    "        if len(moves) <= 1:\n",
    "            return\n",
    "        first_move = parse_move(moves[1])\n",
    "\n",
    "    all_moves = parse_all_moves(moves, isDingNextTurn)\n",
    "    num_moves = len(all_moves)\n",
    "    values, counts = np.unique(all_moves, return_counts=True)\n",
    "    counts = counts / num_moves\n",
    "    ding_moves = dict(zip(values, counts.T))\n",
    "\n",
    "\n",
    "    final_result = parse_win(game)\n",
    "\n",
    "    first_move_winning_state[ding_position][final_result][first_move] += 1\n",
    "\n",
    "    for available in available_pieces:\n",
    "        first_move_winning_state[ding_position][final_result][available + \" avail\"] += 1\n",
    "\n",
    "        all_moves_winning_state[ding_position][final_result][available + \" avail\"] += 1\n",
    "\n",
    "    for moved in list(ding_moves.keys()):\n",
    "        all_moves_winning_state[ding_position][final_result][moved] += ding_moves[moved]\n"
   ]
  },
  {
   "cell_type": "markdown",
   "metadata": {},
   "source": [
    "Initialise data dictionaries"
   ]
  },
  {
   "cell_type": "code",
   "execution_count": 8,
   "metadata": {},
   "outputs": [],
   "source": [
    "data_first_move = {\"K\": 0, \"K avail\": 0, \"Q\": 0, \"Q avail\": 0, \"B\": 0, \"B avail\": 0, \"N\": 0, \"N avail\": 0, \"R\": 0, \"R avail\": 0, \"P\": 0, \"P avail\": 0}\n",
    "\n",
    "first_move_winning_state = {\"Winning\": {\"Win\": data_first_move.copy(), \"Lose\": data_first_move.copy(), \"Draw\": data_first_move.copy()}, \"Neutral\": {\"Win\": data_first_move.copy(), \"Lose\": data_first_move.copy(), \"Draw\": data_first_move.copy()}, \"Losing\": {\"Win\": data_first_move.copy(), \"Lose\": data_first_move.copy(), \"Draw\": data_first_move.copy()}}\n",
    "all_moves_winning_state = {\"Winning\": {\"Win\": data_first_move.copy(), \"Lose\": data_first_move.copy(), \"Draw\": data_first_move.copy()}, \"Neutral\": {\"Win\": data_first_move.copy(), \"Lose\": data_first_move.copy(), \"Draw\": data_first_move.copy()}, \"Losing\": {\"Win\": data_first_move.copy(), \"Lose\": data_first_move.copy(), \"Draw\": data_first_move.copy()}}"
   ]
  },
  {
   "cell_type": "markdown",
   "metadata": {},
   "source": [
    "Iterate over all json files in directory"
   ]
  },
  {
   "cell_type": "code",
   "execution_count": 9,
   "metadata": {},
   "outputs": [
    {
     "name": "stdout",
     "output_type": "stream",
     "text": [
      "69\n"
     ]
    }
   ],
   "source": [
    "directory_name = \"ding_json_5\"\n",
    "directory = os.fsencode(directory_name)\n",
    "num_json = 0\n",
    "    \n",
    "for file in os.listdir(directory):\n",
    "     filename = os.fsdecode(file)\n",
    "     if filename.endswith(\".json\"): \n",
    "         num_json +=1\n",
    "         process_one_game(directory_name + '/' + filename, first_move_winning_state, all_moves_winning_state)\n",
    "     else:\n",
    "         continue\n",
    "\n",
    "print(num_json)"
   ]
  },
  {
   "cell_type": "code",
   "execution_count": 10,
   "metadata": {},
   "outputs": [],
   "source": [
    "states = [\"Winning\", \"Losing\", \"Neutral\"]\n",
    "results = [\"Win\", \"Lose\", \"Draw\"]\n",
    "\n",
    "# Normalise all probabilities in each (state, result) to sum to 1\n",
    "for state in states:\n",
    "    for result in results:\n",
    "        all_moves_probabilities = all_moves_winning_state[state][result]\n",
    "        first_move_probabilities = first_move_winning_state[state][result]\n",
    "        num_games = all_moves_probabilities['K avail'] # Since there is always a K\n",
    "        if not num_games:\n",
    "            continue\n",
    "\n",
    "        final_all_moves_prob = {key: value/num_games for (key, value) in all_moves_probabilities.items() if len(key) == 1}\n",
    "        final_first_move_prob = {key: value/num_games for (key, value) in first_move_probabilities.items() if len(key) == 1}\n",
    "\n",
    "        all_moves_winning_state[state][result] = final_all_moves_prob\n",
    "        first_move_winning_state[state][result] = final_first_move_prob\n"
   ]
  },
  {
   "cell_type": "markdown",
   "metadata": {},
   "source": [
    "### Results"
   ]
  },
  {
   "cell_type": "code",
   "execution_count": 11,
   "metadata": {},
   "outputs": [
    {
     "data": {
      "text/plain": [
       "{'K': 0.5435753640299095,\n",
       " 'Q': 0.0,\n",
       " 'B': 0.08333333333333331,\n",
       " 'N': 0.0,\n",
       " 'R': 0.23900039354584807,\n",
       " 'P': 0.1340909090909091}"
      ]
     },
     "execution_count": 11,
     "metadata": {},
     "output_type": "execute_result"
    }
   ],
   "source": [
    "all_moves_winning_state[\"Losing\"][\"Draw\"]"
   ]
  },
  {
   "cell_type": "code",
   "execution_count": 12,
   "metadata": {},
   "outputs": [
    {
     "data": {
      "text/plain": [
       "{'K': 0.5454545454545454,\n",
       " 'Q': 0.0,\n",
       " 'B': 0.09090909090909091,\n",
       " 'N': 0.0,\n",
       " 'R': 0.3181818181818182,\n",
       " 'P': 0.045454545454545456}"
      ]
     },
     "execution_count": 12,
     "metadata": {},
     "output_type": "execute_result"
    }
   ],
   "source": [
    "first_move_winning_state[\"Losing\"][\"Draw\"]"
   ]
  }
 ],
 "metadata": {
  "kernelspec": {
   "display_name": "Python 3.9.12 ('tf')",
   "language": "python",
   "name": "python3"
  },
  "language_info": {
   "codemirror_mode": {
    "name": "ipython",
    "version": 3
   },
   "file_extension": ".py",
   "mimetype": "text/x-python",
   "name": "python",
   "nbconvert_exporter": "python",
   "pygments_lexer": "ipython3",
   "version": "3.9.12"
  },
  "orig_nbformat": 4,
  "vscode": {
   "interpreter": {
    "hash": "9e5e98d5b2410b3be20c36f0ae6e82fdf7c4c41c444a851c5b309eba8880d0ab"
   }
  }
 },
 "nbformat": 4,
 "nbformat_minor": 2
}
