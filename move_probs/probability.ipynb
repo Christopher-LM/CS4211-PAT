{
 "cells": [
  {
   "cell_type": "markdown",
   "metadata": {},
   "source": [
    "# Calculating probability of chess moves"
   ]
  },
  {
   "cell_type": "markdown",
   "metadata": {},
   "source": [
    "For each board score state (Winning, Neutral, Losing) to each end result (Win/Lose/Draw)\n",
    "\n",
    "Collect move profiles:\n",
    "- First move\n",
    "- Number of times piece is moved until result\n",
    "\n",
    "Final probabilities\n",
    "- Prob of moving specific piece as first move for each starting state to final result\n",
    "- Proportion of moves for each piece for each starting state to final result (like an overall strategy)"
   ]
  },
  {
   "cell_type": "code",
   "execution_count": 787,
   "metadata": {},
   "outputs": [],
   "source": [
    "import os\n",
    "import json\n",
    "import zipfile\n",
    "\n",
    "import chess\n",
    "\n",
    "import numpy as np"
   ]
  },
  {
   "cell_type": "markdown",
   "metadata": {},
   "source": [
    "### Helper functions"
   ]
  },
  {
   "cell_type": "markdown",
   "metadata": {},
   "source": [
    "Calculate board score"
   ]
  },
  {
   "cell_type": "code",
   "execution_count": 788,
   "metadata": {},
   "outputs": [],
   "source": [
    "def calc_score(boardState):\n",
    "    piece_value = {'p': 1, 'n': 3, 'b': 3, 'r': 5, 'q': 9, 'k': 0}\n",
    "\n",
    "    black_pieces = [piece[\"type\"] for piece in boardState if piece[\"color\"] == \"b\"]\n",
    "    white_pieces = [piece[\"type\"] for piece in boardState if piece[\"color\"] == \"w\"]\n",
    "\n",
    "    black_score = sum([piece_value[piece] for piece in black_pieces])\n",
    "    white_score = sum([piece_value[piece] for piece in white_pieces])\n",
    "\n",
    "    return black_score, white_score, black_pieces, white_pieces\n"
   ]
  },
  {
   "cell_type": "markdown",
   "metadata": {},
   "source": [
    "Parse available pieces"
   ]
  },
  {
   "cell_type": "code",
   "execution_count": 789,
   "metadata": {},
   "outputs": [],
   "source": [
    "def parse_available_pieces(boardState, isDingBlack):\n",
    "    black = [piece[\"type\"].capitalize() for piece in boardState if piece[\"color\"] == \"b\"]\n",
    "    white = [piece[\"type\"].capitalize() for piece in boardState if piece[\"color\"] == \"w\"]\n",
    "    if isDingBlack:\n",
    "        return black, white\n",
    "    else:\n",
    "        return white, black"
   ]
  },
  {
   "cell_type": "markdown",
   "metadata": {},
   "source": [
    "Parse Move"
   ]
  },
  {
   "cell_type": "code",
   "execution_count": 790,
   "metadata": {},
   "outputs": [],
   "source": [
    "def parse_move(move):\n",
    "    piece_codes = ['K', 'Q', 'B', 'N', \"R\"]\n",
    "    if move[0] not in piece_codes:\n",
    "        move_piece = 'P'\n",
    "    else:\n",
    "        move_piece = move[0]\n",
    "    \n",
    "    return move_piece"
   ]
  },
  {
   "cell_type": "markdown",
   "metadata": {},
   "source": [
    "Get captured piece"
   ]
  },
  {
   "cell_type": "code",
   "execution_count": 791,
   "metadata": {},
   "outputs": [],
   "source": [
    "def get_captured_piece(game, moves):\n",
    "    isDingBlack = game[\"isCarlsenBlack\"]\n",
    "    nextTurn = game[\"nextTurn\"]\n",
    "    isDingNextTurn = (isDingBlack and nextTurn == 'b') or (not isDingBlack and nextTurn == 'w')\n",
    "    pieces = game[\"boardState\"]\n",
    "    piece_type_map = {'p': 1, 'n': 2, 'b': 3, 'r': 4, 'q': 5, 'k': 6}\n",
    "    reverse_map = {v:k for k,v in piece_type_map.items()}\n",
    "    \n",
    "    base_board = chess.BaseBoard(board_fen=None)\n",
    "    for piece in pieces:\n",
    "        square = chess.parse_square(piece['square'])\n",
    "        piece_type = piece_type_map[piece['type']]\n",
    "        color = piece['color'] == 'w'\n",
    "        piece_object = chess.Piece(piece_type, color)\n",
    "        piece_name = None\n",
    "        base_board.set_piece_at(square, piece_object)\n",
    "    fen = base_board.board_fen()\n",
    "    board = chess.Board(fen=fen)\n",
    "\n",
    "    board.turn = nextTurn == 'w'\n",
    "    for move in moves:\n",
    "        board.push_san(move)\n",
    "    last_move_square = board.pop().to_square\n",
    "    captured_piece = board.piece_type_at(last_move_square)\n",
    "\n",
    "    return reverse_map[captured_piece].upper()"
   ]
  },
  {
   "cell_type": "markdown",
   "metadata": {},
   "source": [
    "Parse all moves"
   ]
  },
  {
   "cell_type": "code",
   "execution_count": 792,
   "metadata": {},
   "outputs": [],
   "source": [
    "def parse_moves_to_capture(game, moves, isDingNextTurn):\n",
    "    for i, move in enumerate(moves):\n",
    "        if 'x' in move:\n",
    "            moves = moves[:i+1]\n",
    "            break\n",
    "\n",
    "    odd_index = moves[::2]\n",
    "    even_index = moves[1::2]\n",
    "    if isDingNextTurn:\n",
    "        if odd_index and 'x' in odd_index[-1]:\n",
    "            captured_piece = get_captured_piece(game, moves)\n",
    "        else:\n",
    "            captured_piece = False\n",
    "        return [parse_move(move) for move in odd_index], captured_piece\n",
    "    else:\n",
    "        if even_index and 'x' in even_index[-1]:\n",
    "            captured_piece = get_captured_piece(game, moves)\n",
    "        else:\n",
    "            captured_piece = False\n",
    "        return [parse_move(move) for move in even_index], captured_piece"
   ]
  },
  {
   "cell_type": "markdown",
   "metadata": {},
   "source": [
    "Parse Win"
   ]
  },
  {
   "cell_type": "code",
   "execution_count": 793,
   "metadata": {},
   "outputs": [],
   "source": [
    "def parse_win(game):\n",
    "    isDingBlack = game[\"isCarlsenBlack\"]\n",
    "    result = game[\"result\"]\n",
    "    if result == \"1/2-1/2\":\n",
    "        return \"Draw\"\n",
    "    white_result = result[0]\n",
    "    if (white_result == \"1\" and not isDingBlack) or (white_result == \"0\" and isDingBlack):\n",
    "        return \"Win\"\n",
    "    else:\n",
    "        return \"Lose\""
   ]
  },
  {
   "cell_type": "markdown",
   "metadata": {},
   "source": [
    "Loading one game"
   ]
  },
  {
   "cell_type": "code",
   "execution_count": 794,
   "metadata": {},
   "outputs": [],
   "source": [
    "def process_one_game(game, all_moves_winning_state, all_captures_winning_state):\n",
    "    black_score, white_score, black_pieces, white_pieces = calc_score(game[\"boardState\"])\n",
    "    isDingBlack = game[\"isCarlsenBlack\"]\n",
    "    nextTurn = game[\"nextTurn\"]\n",
    "    moves = game[\"moves\"]\n",
    "    ding_score = black_score if isDingBlack else white_score\n",
    "    opp_score = white_score if isDingBlack else black_score\n",
    "    isDingNextTurn = (isDingBlack and nextTurn == 'b') or (not isDingBlack and nextTurn == 'w')\n",
    "\n",
    "    if ding_score > opp_score:\n",
    "        ding_position = \"Winning\"\n",
    "    elif ding_score == opp_score:\n",
    "        ding_position = \"Neutral\"\n",
    "    else:\n",
    "        ding_position = \"Losing\"\n",
    "\n",
    "    available_pieces, opp_available_pieces = parse_available_pieces(game[\"boardState\"], isDingBlack)\n",
    "\n",
    "\n",
    "    if isDingNextTurn:\n",
    "        first_move = parse_move(moves[0])\n",
    "    else:\n",
    "        if len(moves) <= 1:\n",
    "            return\n",
    "        first_move = parse_move(moves[1])\n",
    "\n",
    "    all_moves, captured_piece = parse_moves_to_capture(game, moves, isDingNextTurn)\n",
    "    num_moves = len(all_moves)\n",
    "    values, counts = np.unique(all_moves, return_counts=True)\n",
    "    counts = counts / num_moves\n",
    "    ding_moves = dict(zip(values, counts.T))\n",
    "\n",
    "    for available in available_pieces:\n",
    "        all_moves_winning_state[ding_position][available + \" avail\"] += 1\n",
    "\n",
    "    for moved in list(ding_moves.keys()):\n",
    "        all_moves_winning_state[ding_position][moved] += ding_moves[moved]\n",
    "    if captured_piece:\n",
    "        for available in list(set(opp_available_pieces)):\n",
    "            all_captures_winning_state[ding_position][available + \" avail\"] += 1\n",
    "        all_captures_winning_state[ding_position][captured_piece] += 1\n"
   ]
  },
  {
   "cell_type": "markdown",
   "metadata": {},
   "source": [
    "Initialise data dictionaries"
   ]
  },
  {
   "cell_type": "code",
   "execution_count": 795,
   "metadata": {},
   "outputs": [],
   "source": [
    "data_first_move = {\"K\": 0, \"K avail\": 0, \"Q\": 0, \"Q avail\": 0, \"R\": 0, \"R avail\": 0, \"N\": 0, \"N avail\": 0, \"B\": 0, \"B avail\": 0, \"P\": 0, \"P avail\": 0}\n",
    "\n",
    "all_moves_winning_state = {\"Winning\": data_first_move.copy(), \"Losing\": data_first_move.copy(), \"Neutral\": data_first_move.copy()}\n",
    "all_captures_winning_state = {\"Winning\": data_first_move.copy(), \"Losing\": data_first_move.copy(), \"Neutral\": data_first_move.copy()}"
   ]
  },
  {
   "cell_type": "markdown",
   "metadata": {},
   "source": [
    "Iterate over all json files in directory"
   ]
  },
  {
   "cell_type": "code",
   "execution_count": 796,
   "metadata": {},
   "outputs": [
    {
     "name": "stdout",
     "output_type": "stream",
     "text": [
      "426\n"
     ]
    }
   ],
   "source": [
    "directory_prefix = \"./../carlsen_data/\"\n",
    "directory_name = \"json_10.zip\"\n",
    "directory = os.fsencode(directory_name)\n",
    "num_json = 0\n",
    "    \n",
    "with zipfile.ZipFile(directory_prefix + directory_name, \"r\") as z:\n",
    "    for filename in z.namelist()[1:]:   \n",
    "        with z.open(filename) as f: \n",
    "            data = f.read()  \n",
    "            game = json.loads(data.decode(\"utf-8\"))\n",
    "            num_json +=1\n",
    "            process_one_game(game, all_moves_winning_state, all_captures_winning_state)\n",
    "\n",
    "print(num_json)"
   ]
  },
  {
   "cell_type": "code",
   "execution_count": 797,
   "metadata": {},
   "outputs": [],
   "source": [
    "states = [\"Winning\", \"Losing\", \"Neutral\"]\n",
    "# Normalise all probabilities in each (state, result) to sum to 100. If 0 -> 1\n",
    "for state in states:\n",
    "    all_moves_probabilities = all_moves_winning_state[state]\n",
    "    all_captures_probabilities = all_captures_winning_state[state]\n",
    "    num_games = all_moves_probabilities['K avail'] # Since there is always a K\n",
    "    num_capture_games = all_captures_probabilities['K avail']\n",
    "\n",
    "    final_all_moves_prob = {key: (round(value/num_games * 100) if value else 1) for (key, value) in all_moves_probabilities.items() if len(key) == 1}\n",
    "    final_all_captures_prob = {key: (round(value/num_capture_games * 100) if value else 1) for (key, value) in all_captures_probabilities.items() if len(key) == 1}\n",
    "\n",
    "    all_moves_winning_state[state] = final_all_moves_prob\n",
    "    all_captures_winning_state[state] = final_all_captures_prob"
   ]
  },
  {
   "cell_type": "markdown",
   "metadata": {},
   "source": [
    "### Results"
   ]
  },
  {
   "cell_type": "code",
   "execution_count": 798,
   "metadata": {},
   "outputs": [
    {
     "data": {
      "text/plain": [
       "{'K': 1, 'Q': 1, 'R': 8, 'N': 1, 'B': 1, 'P': 92}"
      ]
     },
     "execution_count": 798,
     "metadata": {},
     "output_type": "execute_result"
    }
   ],
   "source": [
    "all_captures_winning_state[\"Winning\"]"
   ]
  },
  {
   "cell_type": "code",
   "execution_count": 799,
   "metadata": {},
   "outputs": [
    {
     "name": "stdout",
     "output_type": "stream",
     "text": [
      "1, 1, 8, 1, 1, 92, // Winning\n",
      "1, 4, 19, 8, 9, 60, // Losing\n",
      "1, 2, 3, 3, 5, 87, // Neutral\n"
     ]
    }
   ],
   "source": [
    "for key, values in all_captures_winning_state.items():\n",
    "    output = [str(v) for v in values.values()]\n",
    "    print(', '.join(output) + ', // ' + key)"
   ]
  }
 ],
 "metadata": {
  "kernelspec": {
   "display_name": "Python 3.9.12 ('tf')",
   "language": "python",
   "name": "python3"
  },
  "language_info": {
   "codemirror_mode": {
    "name": "ipython",
    "version": 3
   },
   "file_extension": ".py",
   "mimetype": "text/x-python",
   "name": "python",
   "nbconvert_exporter": "python",
   "pygments_lexer": "ipython3",
   "version": "3.9.12"
  },
  "orig_nbformat": 4,
  "vscode": {
   "interpreter": {
    "hash": "9e5e98d5b2410b3be20c36f0ae6e82fdf7c4c41c444a851c5b309eba8880d0ab"
   }
  }
 },
 "nbformat": 4,
 "nbformat_minor": 2
}
